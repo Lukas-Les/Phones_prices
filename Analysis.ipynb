{
 "cells": [
  {
   "cell_type": "code",
   "execution_count": 109,
   "metadata": {},
   "outputs": [],
   "source": [
    "import numpy as np\n",
    "import pandas as pd\n",
    "import matplotlib.pyplot as plt"
   ]
  },
  {
   "cell_type": "markdown",
   "metadata": {},
   "source": [
    "# Loading the data:"
   ]
  },
  {
   "cell_type": "code",
   "execution_count": 110,
   "metadata": {},
   "outputs": [],
   "source": [
    "df = pd.read_csv('./Cleaned data/Retailer_A_phones.csv')"
   ]
  },
  {
   "cell_type": "code",
   "execution_count": 111,
   "metadata": {},
   "outputs": [
    {
     "data": {
      "text/html": [
       "<div>\n",
       "<style scoped>\n",
       "    .dataframe tbody tr th:only-of-type {\n",
       "        vertical-align: middle;\n",
       "    }\n",
       "\n",
       "    .dataframe tbody tr th {\n",
       "        vertical-align: top;\n",
       "    }\n",
       "\n",
       "    .dataframe thead th {\n",
       "        text-align: right;\n",
       "    }\n",
       "</style>\n",
       "<table border=\"1\" class=\"dataframe\">\n",
       "  <thead>\n",
       "    <tr style=\"text-align: right;\">\n",
       "      <th></th>\n",
       "      <th>Product_Name</th>\n",
       "      <th>Price</th>\n",
       "      <th>Rating</th>\n",
       "      <th>Color</th>\n",
       "      <th>Memory_GB</th>\n",
       "    </tr>\n",
       "  </thead>\n",
       "  <tbody>\n",
       "    <tr>\n",
       "      <th>0</th>\n",
       "      <td>Xiaomi Redmi Note 9 Pro</td>\n",
       "      <td>252.0</td>\n",
       "      <td>4.9</td>\n",
       "      <td>interstellar grey</td>\n",
       "      <td>128</td>\n",
       "    </tr>\n",
       "    <tr>\n",
       "      <th>1</th>\n",
       "      <td>Xiaomi Redmi Note 9 Pro</td>\n",
       "      <td>249.0</td>\n",
       "      <td>4.8</td>\n",
       "      <td>green</td>\n",
       "      <td>128</td>\n",
       "    </tr>\n",
       "    <tr>\n",
       "      <th>2</th>\n",
       "      <td>Huawei P40 Lite</td>\n",
       "      <td>199.0</td>\n",
       "      <td>4.6</td>\n",
       "      <td>midnight black</td>\n",
       "      <td>128</td>\n",
       "    </tr>\n",
       "    <tr>\n",
       "      <th>3</th>\n",
       "      <td>Xiaomi Redmi Note 9 Pro</td>\n",
       "      <td>239.0</td>\n",
       "      <td>5</td>\n",
       "      <td>white</td>\n",
       "      <td>128</td>\n",
       "    </tr>\n",
       "    <tr>\n",
       "      <th>4</th>\n",
       "      <td>Samsung Galaxy M31s</td>\n",
       "      <td>317.0</td>\n",
       "      <td>5</td>\n",
       "      <td>mirage black</td>\n",
       "      <td>128</td>\n",
       "    </tr>\n",
       "    <tr>\n",
       "      <th>5</th>\n",
       "      <td>Xiaomi Redmi 9</td>\n",
       "      <td>149.5</td>\n",
       "      <td>5</td>\n",
       "      <td>carbon grey</td>\n",
       "      <td>64</td>\n",
       "    </tr>\n",
       "    <tr>\n",
       "      <th>6</th>\n",
       "      <td>Apple iPhone 7 32GB</td>\n",
       "      <td>249.0</td>\n",
       "      <td>-</td>\n",
       "      <td>-</td>\n",
       "      <td>-</td>\n",
       "    </tr>\n",
       "    <tr>\n",
       "      <th>7</th>\n",
       "      <td>Xiaomi Redmi Note 9</td>\n",
       "      <td>175.0</td>\n",
       "      <td>4.5</td>\n",
       "      <td>green</td>\n",
       "      <td>128</td>\n",
       "    </tr>\n",
       "    <tr>\n",
       "      <th>8</th>\n",
       "      <td>Xiaomi Redmi 9C</td>\n",
       "      <td>118.51</td>\n",
       "      <td>-</td>\n",
       "      <td>twilight blue</td>\n",
       "      <td>32</td>\n",
       "    </tr>\n",
       "    <tr>\n",
       "      <th>9</th>\n",
       "      <td>Sony Xperia 5 II</td>\n",
       "      <td>889.0</td>\n",
       "      <td>-</td>\n",
       "      <td>blue</td>\n",
       "      <td>128</td>\n",
       "    </tr>\n",
       "  </tbody>\n",
       "</table>\n",
       "</div>"
      ],
      "text/plain": [
       "              Product_Name   Price Rating              Color Memory_GB\n",
       "0  Xiaomi Redmi Note 9 Pro   252.0    4.9  interstellar grey       128\n",
       "1  Xiaomi Redmi Note 9 Pro   249.0    4.8              green       128\n",
       "2          Huawei P40 Lite   199.0    4.6     midnight black       128\n",
       "3  Xiaomi Redmi Note 9 Pro   239.0      5              white       128\n",
       "4      Samsung Galaxy M31s   317.0      5       mirage black       128\n",
       "5           Xiaomi Redmi 9   149.5      5        carbon grey        64\n",
       "6      Apple iPhone 7 32GB   249.0      -                  -         -\n",
       "7      Xiaomi Redmi Note 9   175.0    4.5              green       128\n",
       "8          Xiaomi Redmi 9C  118.51      -      twilight blue        32\n",
       "9         Sony Xperia 5 II   889.0      -               blue       128"
      ]
     },
     "execution_count": 111,
     "metadata": {},
     "output_type": "execute_result"
    }
   ],
   "source": [
    "df.head(10)"
   ]
  },
  {
   "cell_type": "markdown",
   "metadata": {},
   "source": [
    "# Augment data with additional information:"
   ]
  },
  {
   "cell_type": "code",
   "execution_count": 112,
   "metadata": {},
   "outputs": [],
   "source": [
    "df['Brand'] = df.Product_Name.apply(lambda x: x.strip().split(' ')[0])"
   ]
  },
  {
   "cell_type": "markdown",
   "metadata": {},
   "source": [
    "Modifying type of some columns for later calculations:"
   ]
  },
  {
   "cell_type": "code",
   "execution_count": 113,
   "metadata": {},
   "outputs": [],
   "source": [
    "def price_as_float(s):\n",
    "    if s != '-':\n",
    "        return float(s)\n",
    "    else:\n",
    "        return s    "
   ]
  },
  {
   "cell_type": "code",
   "execution_count": 114,
   "metadata": {},
   "outputs": [],
   "source": [
    "df.Price = df.Price.apply(lambda x: price_as_float(x))"
   ]
  },
  {
   "cell_type": "code",
   "execution_count": 115,
   "metadata": {},
   "outputs": [],
   "source": [
    "df.Rating = df.Rating.apply(lambda x: price_as_float(x))"
   ]
  },
  {
   "cell_type": "markdown",
   "metadata": {},
   "source": [
    "# Analyse the data:"
   ]
  },
  {
   "cell_type": "markdown",
   "metadata": {},
   "source": [
    "### Question 1: What brands of phones this retailer sells?"
   ]
  },
  {
   "cell_type": "markdown",
   "metadata": {},
   "source": [
    "Pandas series with all the brand names that this retailer sells:"
   ]
  },
  {
   "cell_type": "code",
   "execution_count": 116,
   "metadata": {},
   "outputs": [
    {
     "data": {
      "text/plain": [
       "Apple          131\n",
       "Samsung        111\n",
       "Xiaomi         106\n",
       "Huawei          82\n",
       "Sony            35\n",
       "Blackview       28\n",
       "MyPhone         27\n",
       "Realme          26\n",
       "Oukitel         26\n",
       "Nokia           24\n",
       "LG              24\n",
       "OnePlus         17\n",
       "Meizu           17\n",
       "Motorola        16\n",
       "Alcatel         13\n",
       "myPhone         12\n",
       "Oppo            12\n",
       "Allview         12\n",
       "Honor           11\n",
       "iPhone          10\n",
       "Denver          10\n",
       "Ulefone         10\n",
       "ZTE              8\n",
       "UleFone          7\n",
       "Blaupunkt        7\n",
       "Prestigio        6\n",
       "Energizer        6\n",
       "Cubot            5\n",
       "Google           5\n",
       "CAT              5\n",
       "TECNO            4\n",
       "RugGear          3\n",
       "HONOR            2\n",
       "Kruger&Matz      2\n",
       "Kruger           2\n",
       "Nuu              2\n",
       "Doogee           2\n",
       "MEIZU            1\n",
       "Gigaset          1\n",
       "Iphone           1\n",
       "Itel             1\n",
       "Sharp            1\n",
       "Evelatus         1\n",
       "Beafon           1\n",
       "Maxcom           1\n",
       "Getnord          1\n",
       "SONY             1\n",
       "Cat              1\n",
       "Prestigo         1\n",
       "Lenovo           1\n",
       "Name: Brand, dtype: int64"
      ]
     },
     "execution_count": 116,
     "metadata": {},
     "output_type": "execute_result"
    }
   ],
   "source": [
    "df.Brand.value_counts()"
   ]
  },
  {
   "cell_type": "code",
   "execution_count": 117,
   "metadata": {},
   "outputs": [],
   "source": [
    "df.Brand = df.Brand.apply(lambda x: x.lower().replace('iphone', 'Apple'))"
   ]
  },
  {
   "cell_type": "markdown",
   "metadata": {},
   "source": [
    "### Question 2: Which brands are most expensive in general, and which ones are the cheapest ones?"
   ]
  },
  {
   "cell_type": "markdown",
   "metadata": {},
   "source": [
    "One of the problems is, that not all the products has a specified price. So for further analysis, products with no valid pricing will be droped down."
   ]
  },
  {
   "cell_type": "code",
   "execution_count": 118,
   "metadata": {},
   "outputs": [
    {
     "name": "stdout",
     "output_type": "stream",
     "text": [
      "291 items has no price. That's about 35 % of all items in store (839).\n"
     ]
    }
   ],
   "source": [
    "n_priceless = len(df[df.Price == '-'])\n",
    "n_items = len(df)\n",
    "print(\"{} items has no price. That's about {} % of all items in store ({}).\".format(n_priceless,\n",
    "                                                                       round((n_priceless / n_items)*100),\n",
    "                                                                        n_items))"
   ]
  },
  {
   "cell_type": "code",
   "execution_count": 119,
   "metadata": {},
   "outputs": [
    {
     "name": "stdout",
     "output_type": "stream",
     "text": [
      "(839, 6) (548, 6)\n"
     ]
    }
   ],
   "source": [
    "pr_df = df.drop(df[df.Price == '-'].index, axis=0)\n",
    "print(df.shape, pr_df.shape)"
   ]
  },
  {
   "cell_type": "code",
   "execution_count": 120,
   "metadata": {},
   "outputs": [],
   "source": [
    "pr_df.Brand = pr_df.Brand.apply(lambda x: x.lower())"
   ]
  },
  {
   "cell_type": "code",
   "execution_count": 121,
   "metadata": {},
   "outputs": [],
   "source": [
    "pr_df.Price = pd.to_numeric(pr_df.Price)"
   ]
  },
  {
   "cell_type": "code",
   "execution_count": 122,
   "metadata": {},
   "outputs": [],
   "source": [
    "gr_by_brand = pr_df.groupby('Brand')['Price'].mean().round(2).sort_values(ascending=False)"
   ]
  },
  {
   "cell_type": "markdown",
   "metadata": {},
   "source": [
    "Most expensive phones at this shop are:"
   ]
  },
  {
   "cell_type": "code",
   "execution_count": 223,
   "metadata": {},
   "outputs": [
    {
     "data": {
      "text/plain": [
       "Brand\n",
       "apple      940.93\n",
       "sony       605.45\n",
       "oneplus    519.21\n",
       "samsung    502.13\n",
       "cat        420.43\n",
       "getnord    351.00\n",
       "realme     317.65\n",
       "ruggear    285.69\n",
       "huawei     263.43\n",
       "xiaomi     260.75\n",
       "Name: Price, dtype: float64"
      ]
     },
     "execution_count": 223,
     "metadata": {},
     "output_type": "execute_result"
    }
   ],
   "source": [
    "gr_by_brand[:10]"
   ]
  },
  {
   "cell_type": "code",
   "execution_count": 256,
   "metadata": {},
   "outputs": [
    {
     "data": {
      "image/png": "[encoded data removed]",
      "text/plain": [
       "<Figure size 432x288 with 1 Axes>"
      ]
     },
     "metadata": {
      "needs_background": "light"
     },
     "output_type": "display_data"
    }
   ],
   "source": [
    "sgr_by_brand = gr_by_brand[:10].sort_values()\n",
    "plt.barh(sgr_by_brand.keys(), sgr_by_brand)\n",
    "plt.xlabel('Mean price in Euros')\n",
    "plt.ylabel('Brand names')\n",
    "plt.xticks(range(1000)[::100])\n",
    "plt.xlim(xmin=200) \n",
    "plt.show()"
   ]
  },
  {
   "cell_type": "markdown",
   "metadata": {},
   "source": [
    "Cheapest phones at this shop are:"
   ]
  },
  {
   "cell_type": "code",
   "execution_count": 124,
   "metadata": {
    "scrolled": true
   },
   "outputs": [
    {
     "data": {
      "text/plain": [
       "Brand\n",
       "denver       102.47\n",
       "prestigio     95.06\n",
       "alcatel       83.99\n",
       "prestigo      77.42\n",
       "itel          65.00\n",
       "evelatus      52.00\n",
       "Name: Price, dtype: float64"
      ]
     },
     "execution_count": 124,
     "metadata": {},
     "output_type": "execute_result"
    }
   ],
   "source": [
    "gr_by_brand[-7:-1]"
   ]
  },
  {
   "cell_type": "markdown",
   "metadata": {},
   "source": [
    "### Question 3: Best rated phones and worse rated phones are?"
   ]
  },
  {
   "cell_type": "markdown",
   "metadata": {},
   "source": [
    "Not all phones are rated, so firstly, another data separation is needed:"
   ]
  },
  {
   "cell_type": "code",
   "execution_count": 145,
   "metadata": {},
   "outputs": [],
   "source": [
    "rated = df.drop(df[df.Rating == '-'].index, axis=0)"
   ]
  },
  {
   "cell_type": "code",
   "execution_count": 157,
   "metadata": {},
   "outputs": [],
   "source": [
    "five_stared = rated[rated.Rating == 5]"
   ]
  },
  {
   "cell_type": "code",
   "execution_count": 159,
   "metadata": {},
   "outputs": [
    {
     "name": "stdout",
     "output_type": "stream",
     "text": [
      "There are 193 phones rated as 5/5\n"
     ]
    }
   ],
   "source": [
    "print(f\"There are {len(five_stared)} phones rated as 5/5\")"
   ]
  },
  {
   "cell_type": "code",
   "execution_count": 172,
   "metadata": {},
   "outputs": [
    {
     "data": {
      "text/html": [
       "<div>\n",
       "<style scoped>\n",
       "    .dataframe tbody tr th:only-of-type {\n",
       "        vertical-align: middle;\n",
       "    }\n",
       "\n",
       "    .dataframe tbody tr th {\n",
       "        vertical-align: top;\n",
       "    }\n",
       "\n",
       "    .dataframe thead th {\n",
       "        text-align: right;\n",
       "    }\n",
       "</style>\n",
       "<table border=\"1\" class=\"dataframe\">\n",
       "  <thead>\n",
       "    <tr style=\"text-align: right;\">\n",
       "      <th></th>\n",
       "      <th>Product_Name</th>\n",
       "      <th>Price</th>\n",
       "      <th>Rating</th>\n",
       "      <th>Color</th>\n",
       "      <th>Memory_GB</th>\n",
       "      <th>Brand</th>\n",
       "    </tr>\n",
       "  </thead>\n",
       "  <tbody>\n",
       "    <tr>\n",
       "      <th>438</th>\n",
       "      <td>Apple iPhone 7 32GB</td>\n",
       "      <td>360</td>\n",
       "      <td>1</td>\n",
       "      <td>-</td>\n",
       "      <td>-</td>\n",
       "      <td>apple</td>\n",
       "    </tr>\n",
       "    <tr>\n",
       "      <th>664</th>\n",
       "      <td>Samsung Galaxy S10</td>\n",
       "      <td>-</td>\n",
       "      <td>1</td>\n",
       "      <td>-</td>\n",
       "      <td>128</td>\n",
       "      <td>samsung</td>\n",
       "    </tr>\n",
       "  </tbody>\n",
       "</table>\n",
       "</div>"
      ],
      "text/plain": [
       "            Product_Name Price Rating Color Memory_GB    Brand\n",
       "438  Apple iPhone 7 32GB   360      1     -         -    apple\n",
       "664   Samsung Galaxy S10     -      1     -       128  samsung"
      ]
     },
     "execution_count": 172,
     "metadata": {},
     "output_type": "execute_result"
    }
   ],
   "source": [
    "rated[rated.Rating < 2]"
   ]
  },
  {
   "cell_type": "code",
   "execution_count": null,
   "metadata": {},
   "outputs": [],
   "source": []
  }
 ],
 "metadata": {
  "kernelspec": {
   "display_name": "Python 3",
   "language": "python",
   "name": "python3"
  },
  "language_info": {
   "codemirror_mode": {
    "name": "ipython",
    "version": 3
   },
   "file_extension": ".py",
   "mimetype": "text/x-python",
   "name": "python",
   "nbconvert_exporter": "python",
   "pygments_lexer": "ipython3",
   "version": "3.8.3"
  }
 },
 "nbformat": 4,
 "nbformat_minor": 4
}
